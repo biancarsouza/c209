{
 "cells": [
  {
   "cell_type": "code",
   "execution_count": 1,
   "metadata": {},
   "outputs": [],
   "source": [
    "import numpy as np\n",
    "import matplotlib.pyplot as plt\n",
    "import sounddevice as sd\n",
    "from scipy.io import wavfile\n",
    "from PIL import Image\n",
    "import moviepy.editor as mpe"
   ]
  },
  {
   "cell_type": "code",
   "execution_count": null,
   "metadata": {},
   "outputs": [],
   "source": [
    "video = mpe.VideoFileClip(\"video.mp4\")\n",
    "video.ipython_display(width=480, maxduration=300)"
   ]
  },
  {
   "cell_type": "code",
   "execution_count": null,
   "metadata": {},
   "outputs": [],
   "source": [
    "def inverter_cada_20(frame, t_res):\n",
    "    \n",
    "    frame = frame(t_res)\n",
    "\n",
    "    if int(t_res // 20) % 2 == 1:\n",
    "        return frame[::-1, :]\n",
    "    else:\n",
    "        return frame\n",
    "\n",
    "video_invertido = video.fl(inverter_cada_20)\n",
    "\n",
    "video_invertido.ipython_display(width=480, maxduration=300)"
   ]
  },
  {
   "cell_type": "code",
   "execution_count": null,
   "metadata": {},
   "outputs": [],
   "source": [
    "def reduzir_cada_30(frame, t_res):\n",
    "    \n",
    "    tempo = video.duration\n",
    "\n",
    "    fator_resp = np.ones_like(t_res)\n",
    "\n",
    "    maskara1 = t_res < 150\n",
    "    fator_resp[maskara1] = 1 - (t_res[maskara1] // 30) * 0.2\n",
    "\n",
    "    maskara2 = t_res > 150\n",
    "    fator_resp[maskara2] = np.maximum(0, 1 - (t_res[maskara2] - 150) / 10)\n",
    "    \n",
    "    return frame(t_res) * fator_resp[:, np.newaxis]\n",
    "    \n",
    "video_audio_reduzido = video.audio.set_fps(44100).fl(reduzir_cada_30)\n",
    "\n",
    "video_audio_reduzido = video.set_audio(video_audio_reduzido)\n",
    "\n",
    "video_audio_reduzido.ipython_display(width=480, maxduration=300)\n",
    "video_audio_reduzido.write_videofile(\"video com audio reduzido a cada 30s.mp4\", codec=\"libx264\", audio_codec=\"aac\")"
   ]
  },
  {
   "cell_type": "code",
   "execution_count": null,
   "metadata": {},
   "outputs": [],
   "source": [
    "video1 = video.subclip(0,60)\n",
    "video2 = video.subclip(60,80)\n",
    "video3 = video.subclip(80)\n",
    "\n",
    "video = mpe.concatenate_videoclips([video1, video3, video2])\n",
    "\n",
    "video.ipython_display(width=480, maxduration=300)\n",
    "video.write_videofile(\"video_final.mp4\", codec=\"libx264\", audio_codec=\"aac\")"
   ]
  }
 ],
 "metadata": {
  "kernelspec": {
   "display_name": "Python 3",
   "language": "python",
   "name": "python3"
  },
  "language_info": {
   "codemirror_mode": {
    "name": "ipython",
    "version": 3
   },
   "file_extension": ".py",
   "mimetype": "text/x-python",
   "name": "python",
   "nbconvert_exporter": "python",
   "pygments_lexer": "ipython3",
   "version": "3.13.0"
  }
 },
 "nbformat": 4,
 "nbformat_minor": 2
}
